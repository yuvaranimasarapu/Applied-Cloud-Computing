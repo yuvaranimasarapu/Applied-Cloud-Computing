{
 "cells": [
  {
   "cell_type": "markdown",
   "metadata": {},
   "source": [
    "# Computer Lab 2, Part I"
   ]
  },
  {
   "cell_type": "markdown",
   "metadata": {},
   "source": [
    "This notebook consists of instructions, exercises and questions that form the practical part of Lab II, Part I. In this assignment, you will learn the basics of the OpenStack Python APIs that can be used to interact directly with the IaaS services Keystone (Identity), Glance (Image) and Nova (compute). Please prepare your solution and answers to questions directly in this notebook, and export it to PDF. Upload that PDF as to the student portal to complete Part I of the Lab.  "
   ]
  },
  {
   "cell_type": "markdown",
   "metadata": {},
   "source": [
    "## Task - 1"
   ]
  },
  {
   "cell_type": "code",
   "execution_count": null,
   "metadata": {
    "collapsed": true
   },
   "outputs": [],
   "source": [
    "from os import environ as env\n",
    "import keystoneclient.v3.client as ksclient"
   ]
  },
  {
   "cell_type": "markdown",
   "metadata": {},
   "source": [
    "To establish a client connection, we will need to pass a dictionary with information about the tenant, user, credentials and the API Identity endpoint. Here, I have sourced the \"openrc.sh file\" obtained from the Horizon dashboard in the underlying shell prior to starting the notebook. Hence, in order to actually run the code below, you would need to do the same with your own credentials. "
   ]
  },
  {
   "cell_type": "code",
   "execution_count": null,
   "metadata": {
    "collapsed": true
   },
   "outputs": [],
   "source": [
    "keystone = ksclient.Client(auth_url=env['OS_AUTH_URL'],\n",
    "                           username=env['OS_USERNAME'],\n",
    "                           password=env['OS_PASSWORD'],\n",
    "                           project_name=env['OS_PROJECT_NAME'],\n",
    "                           project_domain_name=env['OS_USER_DOMAIN_NAME'],\n",
    "                           project_id=env['OS_PROJECT_ID'],\n",
    "                           version=env['OS_IDENTITY_API_VERSION'],\n",
    "                           user_domain_name=env['OS_USER_DOMAIN_NAME'],\n",
    "                           region_name=env['OS_REGION_NAME'])"
   ]
  },
  {
   "cell_type": "raw",
   "metadata": {},
   "source": [
    "# Next command will collect all the available endpoints in keystone."
   ]
  },
  {
   "cell_type": "code",
   "execution_count": null,
   "metadata": {
    "collapsed": true
   },
   "outputs": [],
   "source": [
    "endpoints = keystone.service_catalog.get_endpoints()"
   ]
  },
  {
   "cell_type": "raw",
   "metadata": {
    "collapsed": true
   },
   "source": [
    "# Next section will print the services with associated infromation."
   ]
  },
  {
   "cell_type": "code",
   "execution_count": null,
   "metadata": {
    "collapsed": true
   },
   "outputs": [],
   "source": [
    "for endpoint in endpoints:\n",
    "    for edp in endpoints[endpoint]:\n",
    "        if edp['interface'] == 'public':\n",
    "            print 'service: ', endpoint, ', region: ', edp['region'], ', public endpoint: ', edp['url']"
   ]
  },
  {
   "cell_type": "markdown",
   "metadata": {},
   "source": [
    "## Questions:"
   ]
  },
  {
   "cell_type": "raw",
   "metadata": {},
   "source": [
    "1 - Explain the working of the code?\n",
    "2 - Why we need openrc file to run this code?\n",
    "3 - The code shows information about the \"public\" endpoints. Modify the code to show both the \"public\" and \"internal\" endpoints?\n",
    "4 - What is the difference between \"internal\" and \"public\" endpoints?"
   ]
  },
  {
   "cell_type": "markdown",
   "metadata": {
    "collapsed": true
   },
   "source": [
    "## Task - 2"
   ]
  },
  {
   "cell_type": "markdown",
   "metadata": {
    "collapsed": true
   },
   "source": [
    "In this task you need to write a small python program using Keystone and Nova APIs to list all the available VMs in the project. \n",
    "\n",
    "Use the following links and the code available in Task-1. \n",
    "\n",
    "https://docs.openstack.org/python-novaclient/pike/ https://docs.openstack.org/python-novaclient/pike/reference/api/index.html\n",
    "\n",
    "Following are the functions required to accomplish the task: \n",
    "\n",
    "Load the required plugin:<br />\n",
    "loader = loading.get_plugin_loader(...)\n",
    "\n",
    "Create the auth object:<br />\n",
    "auth = loader.load_from_options(....) \n",
    "\n",
    "Create session object using \"auth\":<br />\n",
    "sess = session.Session( .... )\n",
    "\n",
    "Create Nova Client Object:<br />\n",
    "nova = client.Client( ... )\n",
    "\n",
    "Print the Vms:<br />\n",
    "nova.servers.list():"
   ]
  },
  {
   "cell_type": "markdown",
   "metadata": {},
   "source": [
    "## Task - 3:"
   ]
  },
  {
   "cell_type": "markdown",
   "metadata": {},
   "source": [
    "Try to measure the speed with which you can put and get files to and from volumes. Conduct your experiment several times to gather statistic and plot a) A estimated distribution of the time taken (in wall clock) to write and read a file of size 10MB in your volume and b) vary the size of the file from 10kB to 100MB and plot the read and write throughput (in MB/s) times as a function of file size (for the smaller data sizes, you might need to repeat the experiment many times and obtain a statistical average). Use \"Root\" disk as a reference point. Include the resulting graphs and a description of your experiment in the report."
   ]
  },
  {
   "cell_type": "code",
   "execution_count": null,
   "metadata": {
    "collapsed": true
   },
   "outputs": [],
   "source": [
    "# Implement you solution here. Hint, the following command\n",
    "%pylab inline \n",
    "# will  make matplotlib/pylab available and plots will be displayed directly in the notebook, for example\n",
    "plt.plot([0,1,2,3],[0,1,2,3])"
   ]
  },
  {
   "cell_type": "markdown",
   "metadata": {},
   "source": [
    "Don't foget to terminate resources after your experiments. "
   ]
  },
  {
   "cell_type": "code",
   "execution_count": null,
   "metadata": {
    "collapsed": true
   },
   "outputs": [],
   "source": [
    "# Clean up volumes"
   ]
  }
 ],
 "metadata": {
  "kernelspec": {
   "display_name": "Python 3",
   "language": "python",
   "name": "python3"
  },
  "language_info": {
   "codemirror_mode": {
    "name": "ipython",
    "version": 3
   },
   "file_extension": ".py",
   "mimetype": "text/x-python",
   "name": "python",
   "nbconvert_exporter": "python",
   "pygments_lexer": "ipython3",
   "version": "3.5.2"
  }
 },
 "nbformat": 4,
 "nbformat_minor": 1
}
